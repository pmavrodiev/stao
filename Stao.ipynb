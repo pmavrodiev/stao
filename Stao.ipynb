{
 "cells": [
  {
   "cell_type": "code",
   "execution_count": 1,
   "metadata": {
    "collapsed": false
   },
   "outputs": [],
   "source": [
    "import logging\n",
    "import pandas as pd\n",
    "import numpy as np\n",
    "import configparser\n",
    "\n",
    "from simple_logging.custom_logging import setup_custom_logger\n",
    "from input_reader.input_reader import get_input\n",
    "\n",
    "settingsFile = \"settings.cfg\"\n",
    "\n",
    "# logger einrichten\n",
    "LOGGING_LEVEL = logging.INFO\n",
    "logger = setup_custom_logger('GM_LOGGER', LOGGING_LEVEL, flog=\"logs/gm.log\")"
   ]
  },
  {
   "cell_type": "code",
   "execution_count": 2,
   "metadata": {
    "collapsed": false
   },
   "outputs": [
    {
     "data": {
      "text/plain": [
       "'0.18.1'"
      ]
     },
     "execution_count": 2,
     "metadata": {},
     "output_type": "execute_result"
    }
   ],
   "source": [
    "pd.__version__"
   ]
  },
  {
   "cell_type": "code",
   "execution_count": 3,
   "metadata": {
    "collapsed": false
   },
   "outputs": [],
   "source": [
    "# get the input\n",
    "(stores_pd, stores_migros_pd, drivetimes_pd, drivetimes_migros_pd, haushalt_pd) = get_input(settingsFile, logger)"
   ]
  },
  {
   "cell_type": "code",
   "execution_count": 4,
   "metadata": {
    "collapsed": false
   },
   "outputs": [
    {
     "data": {
      "text/html": [
       "<div>\n",
       "<table border=\"1\" class=\"dataframe\">\n",
       "  <thead>\n",
       "    <tr style=\"text-align: right;\">\n",
       "      <th></th>\n",
       "      <th>fahrzeit</th>\n",
       "      <th>hektar_id</th>\n",
       "    </tr>\n",
       "    <tr>\n",
       "      <th>filiale_id</th>\n",
       "      <th></th>\n",
       "      <th></th>\n",
       "    </tr>\n",
       "  </thead>\n",
       "  <tbody>\n",
       "    <tr>\n",
       "      <th>SM_MIG_61607_15939</th>\n",
       "      <td>21</td>\n",
       "      <td>61341718</td>\n",
       "    </tr>\n",
       "    <tr>\n",
       "      <th>SM_MIG_61607_15939</th>\n",
       "      <td>21</td>\n",
       "      <td>61341719</td>\n",
       "    </tr>\n",
       "    <tr>\n",
       "      <th>SM_MIG_61607_15939</th>\n",
       "      <td>21</td>\n",
       "      <td>61341722</td>\n",
       "    </tr>\n",
       "  </tbody>\n",
       "</table>\n",
       "</div>"
      ],
      "text/plain": [
       "                    fahrzeit  hektar_id\n",
       "filiale_id                             \n",
       "SM_MIG_61607_15939        21   61341718\n",
       "SM_MIG_61607_15939        21   61341719\n",
       "SM_MIG_61607_15939        21   61341722"
      ]
     },
     "execution_count": 4,
     "metadata": {},
     "output_type": "execute_result"
    }
   ],
   "source": [
    "drivetimes_pd.head(3)"
   ]
  },
  {
   "cell_type": "code",
   "execution_count": 5,
   "metadata": {
    "collapsed": false
   },
   "outputs": [
    {
     "name": "stdout",
     "output_type": "stream",
     "text": [
      "Number of entries in drivetimes 110299436: \n"
     ]
    }
   ],
   "source": [
    "print('Number of entries in drivetimes %d: ' % len(drivetimes_pd))"
   ]
  },
  {
   "cell_type": "markdown",
   "metadata": {},
   "source": [
    "# Duplikate in drivetimes"
   ]
  },
  {
   "cell_type": "code",
   "execution_count": 7,
   "metadata": {
    "collapsed": false
   },
   "outputs": [],
   "source": [
    "drivetimes_pd2 = drivetimes_pd.reset_index()\n",
    "drivetimes_pd2 = drivetimes_pd2.set_index(['filiale_id', 'fahrzeit', 'hektar_id'])"
   ]
  },
  {
   "cell_type": "code",
   "execution_count": 8,
   "metadata": {
    "collapsed": false
   },
   "outputs": [
    {
     "data": {
      "text/html": [
       "<div>\n",
       "<table border=\"1\" class=\"dataframe\">\n",
       "  <thead>\n",
       "    <tr style=\"text-align: right;\">\n",
       "      <th></th>\n",
       "      <th></th>\n",
       "      <th></th>\n",
       "    </tr>\n",
       "    <tr>\n",
       "      <th>filiale_id</th>\n",
       "      <th>fahrzeit</th>\n",
       "      <th>hektar_id</th>\n",
       "    </tr>\n",
       "  </thead>\n",
       "  <tbody>\n",
       "    <tr>\n",
       "      <th rowspan=\"3\" valign=\"top\">SM_MIG_61607_15939</th>\n",
       "      <th rowspan=\"3\" valign=\"top\">21</th>\n",
       "      <th>61341718</th>\n",
       "    </tr>\n",
       "    <tr>\n",
       "      <th>61341719</th>\n",
       "    </tr>\n",
       "    <tr>\n",
       "      <th>61341722</th>\n",
       "    </tr>\n",
       "  </tbody>\n",
       "</table>\n",
       "</div>"
      ],
      "text/plain": [
       "Empty DataFrame\n",
       "Columns: []\n",
       "Index: [(SM_MIG_61607_15939, 21, 61341718), (SM_MIG_61607_15939, 21, 61341719), (SM_MIG_61607_15939, 21, 61341722)]"
      ]
     },
     "execution_count": 8,
     "metadata": {},
     "output_type": "execute_result"
    }
   ],
   "source": [
    "drivetimes_pd2.head(3)"
   ]
  },
  {
   "cell_type": "code",
   "execution_count": 50,
   "metadata": {
    "collapsed": false
   },
   "outputs": [],
   "source": [
    "drivetimes_duplicates = drivetimes_pd2[ drivetimes_pd2.index.duplicated()]"
   ]
  },
  {
   "cell_type": "code",
   "execution_count": 51,
   "metadata": {
    "collapsed": false
   },
   "outputs": [
    {
     "name": "stdout",
     "output_type": "stream",
     "text": [
      "Number of duplicates: 369841\n"
     ]
    }
   ],
   "source": [
    "print('Number of duplicates: %d' % len(drivetimes_duplicates))"
   ]
  },
  {
   "cell_type": "code",
   "execution_count": 70,
   "metadata": {
    "collapsed": false
   },
   "outputs": [
    {
     "data": {
      "text/html": [
       "<div>\n",
       "<table border=\"1\" class=\"dataframe\">\n",
       "  <thead>\n",
       "    <tr style=\"text-align: right;\">\n",
       "      <th></th>\n",
       "      <th></th>\n",
       "      <th></th>\n",
       "    </tr>\n",
       "    <tr>\n",
       "      <th>filiale_id</th>\n",
       "      <th>fahrzeit</th>\n",
       "      <th>hektar_id</th>\n",
       "    </tr>\n",
       "  </thead>\n",
       "  <tbody>\n",
       "    <tr>\n",
       "      <th rowspan=\"10\" valign=\"top\">SM_DEN_76515_25781</th>\n",
       "      <th>26</th>\n",
       "      <th>73722539</th>\n",
       "    </tr>\n",
       "    <tr>\n",
       "      <th>23</th>\n",
       "      <th>74552662</th>\n",
       "    </tr>\n",
       "    <tr>\n",
       "      <th>21</th>\n",
       "      <th>75792395</th>\n",
       "    </tr>\n",
       "    <tr>\n",
       "      <th>10</th>\n",
       "      <th>75972610</th>\n",
       "    </tr>\n",
       "    <tr>\n",
       "      <th>24</th>\n",
       "      <th>74552664</th>\n",
       "    </tr>\n",
       "    <tr>\n",
       "      <th rowspan=\"2\" valign=\"top\">30</th>\n",
       "      <th>74302685</th>\n",
       "    </tr>\n",
       "    <tr>\n",
       "      <th>75142489</th>\n",
       "    </tr>\n",
       "    <tr>\n",
       "      <th>24</th>\n",
       "      <th>74552666</th>\n",
       "    </tr>\n",
       "    <tr>\n",
       "      <th>11</th>\n",
       "      <th>75972613</th>\n",
       "    </tr>\n",
       "    <tr>\n",
       "      <th>7</th>\n",
       "      <th>76332563</th>\n",
       "    </tr>\n",
       "  </tbody>\n",
       "</table>\n",
       "</div>"
      ],
      "text/plain": [
       "Empty DataFrame\n",
       "Columns: []\n",
       "Index: [(SM_DEN_76515_25781, 26, 73722539), (SM_DEN_76515_25781, 23, 74552662), (SM_DEN_76515_25781, 21, 75792395), (SM_DEN_76515_25781, 10, 75972610), (SM_DEN_76515_25781, 24, 74552664), (SM_DEN_76515_25781, 30, 74302685), (SM_DEN_76515_25781, 30, 75142489), (SM_DEN_76515_25781, 24, 74552666), (SM_DEN_76515_25781, 11, 75972613), (SM_DEN_76515_25781, 7, 76332563)]"
      ]
     },
     "execution_count": 70,
     "metadata": {},
     "output_type": "execute_result"
    }
   ],
   "source": [
    "drivetimes_duplicates.head(10)"
   ]
  },
  {
   "cell_type": "code",
   "execution_count": 76,
   "metadata": {
    "collapsed": false
   },
   "outputs": [
    {
     "data": {
      "text/html": [
       "<div>\n",
       "<table border=\"1\" class=\"dataframe\">\n",
       "  <thead>\n",
       "    <tr style=\"text-align: right;\">\n",
       "      <th></th>\n",
       "      <th>fahrzeit</th>\n",
       "      <th>hektar_id</th>\n",
       "    </tr>\n",
       "    <tr>\n",
       "      <th>filiale_id</th>\n",
       "      <th></th>\n",
       "      <th></th>\n",
       "    </tr>\n",
       "  </thead>\n",
       "  <tbody>\n",
       "    <tr>\n",
       "      <th>SM_MIG_68294_26394</th>\n",
       "      <td>11</td>\n",
       "      <td>67672614</td>\n",
       "    </tr>\n",
       "    <tr>\n",
       "      <th>SM_MIG_68294_26394</th>\n",
       "      <td>11</td>\n",
       "      <td>67672614</td>\n",
       "    </tr>\n",
       "  </tbody>\n",
       "</table>\n",
       "</div>"
      ],
      "text/plain": [
       "                    fahrzeit  hektar_id\n",
       "filiale_id                             \n",
       "SM_MIG_68294_26394        11   67672614\n",
       "SM_MIG_68294_26394        11   67672614"
      ]
     },
     "execution_count": 76,
     "metadata": {},
     "output_type": "execute_result"
    }
   ],
   "source": [
    "a=drivetimes_pd.loc['SM_MIG_68294_26394']\n",
    "a[ (a['fahrzeit']==11) & (a['hektar_id']==67672614) ]"
   ]
  },
  {
   "cell_type": "code",
   "execution_count": 71,
   "metadata": {
    "collapsed": true
   },
   "outputs": [],
   "source": [
    "drivetimes_duplicates.to_csv('/userdata/pmavrodi/Projekte/Stao/output/drivetimes_duplicates.csv')"
   ]
  },
  {
   "cell_type": "markdown",
   "metadata": {},
   "source": [
    "# Duplikate in drivetimes_migros_pd"
   ]
  },
  {
   "cell_type": "code",
   "execution_count": 78,
   "metadata": {
    "collapsed": true
   },
   "outputs": [],
   "source": [
    "drivetimes_pd3 = drivetimes_migros_pd.reset_index()\n",
    "drivetimes_pd3 = drivetimes_pd3.set_index(['filiale_id', 'fahrzeit', 'hektar_id'])"
   ]
  },
  {
   "cell_type": "code",
   "execution_count": 79,
   "metadata": {
    "collapsed": false
   },
   "outputs": [
    {
     "data": {
      "text/html": [
       "<div>\n",
       "<table border=\"1\" class=\"dataframe\">\n",
       "  <thead>\n",
       "    <tr style=\"text-align: right;\">\n",
       "      <th></th>\n",
       "      <th></th>\n",
       "      <th></th>\n",
       "    </tr>\n",
       "    <tr>\n",
       "      <th>filiale_id</th>\n",
       "      <th>fahrzeit</th>\n",
       "      <th>hektar_id</th>\n",
       "    </tr>\n",
       "  </thead>\n",
       "  <tbody>\n",
       "    <tr>\n",
       "      <th rowspan=\"4\" valign=\"top\">SM_MIG_61607_15939</th>\n",
       "      <th rowspan=\"3\" valign=\"top\">21</th>\n",
       "      <th>61341718</th>\n",
       "    </tr>\n",
       "    <tr>\n",
       "      <th>61341719</th>\n",
       "    </tr>\n",
       "    <tr>\n",
       "      <th>61341722</th>\n",
       "    </tr>\n",
       "    <tr>\n",
       "      <th>22</th>\n",
       "      <th>61341730</th>\n",
       "    </tr>\n",
       "  </tbody>\n",
       "</table>\n",
       "</div>"
      ],
      "text/plain": [
       "Empty DataFrame\n",
       "Columns: []\n",
       "Index: [(SM_MIG_61607_15939, 21, 61341718), (SM_MIG_61607_15939, 21, 61341719), (SM_MIG_61607_15939, 21, 61341722), (SM_MIG_61607_15939, 22, 61341730)]"
      ]
     },
     "execution_count": 79,
     "metadata": {},
     "output_type": "execute_result"
    }
   ],
   "source": [
    "drivetimes_pd3.head(4)"
   ]
  },
  {
   "cell_type": "code",
   "execution_count": 80,
   "metadata": {
    "collapsed": true
   },
   "outputs": [],
   "source": [
    "drivetimes_duplicates2 = drivetimes_pd3[ drivetimes_pd3.index.duplicated()]"
   ]
  },
  {
   "cell_type": "code",
   "execution_count": 81,
   "metadata": {
    "collapsed": false
   },
   "outputs": [
    {
     "name": "stdout",
     "output_type": "stream",
     "text": [
      "Number of duplicates: 32660\n"
     ]
    }
   ],
   "source": [
    "print('Number of duplicates: %d' % len(drivetimes_duplicates2))"
   ]
  },
  {
   "cell_type": "code",
   "execution_count": 82,
   "metadata": {
    "collapsed": false
   },
   "outputs": [
    {
     "data": {
      "text/html": [
       "<div>\n",
       "<table border=\"1\" class=\"dataframe\">\n",
       "  <thead>\n",
       "    <tr style=\"text-align: right;\">\n",
       "      <th></th>\n",
       "      <th></th>\n",
       "      <th></th>\n",
       "    </tr>\n",
       "    <tr>\n",
       "      <th>filiale_id</th>\n",
       "      <th>fahrzeit</th>\n",
       "      <th>hektar_id</th>\n",
       "    </tr>\n",
       "  </thead>\n",
       "  <tbody>\n",
       "    <tr>\n",
       "      <th rowspan=\"3\" valign=\"top\">SM_MIG_68294_26394</th>\n",
       "      <th rowspan=\"2\" valign=\"top\">27</th>\n",
       "      <th>69992480</th>\n",
       "    </tr>\n",
       "    <tr>\n",
       "      <th>69992482</th>\n",
       "    </tr>\n",
       "    <tr>\n",
       "      <th>26</th>\n",
       "      <th>69992486</th>\n",
       "    </tr>\n",
       "  </tbody>\n",
       "</table>\n",
       "</div>"
      ],
      "text/plain": [
       "Empty DataFrame\n",
       "Columns: []\n",
       "Index: [(SM_MIG_68294_26394, 27, 69992480), (SM_MIG_68294_26394, 27, 69992482), (SM_MIG_68294_26394, 26, 69992486)]"
      ]
     },
     "execution_count": 82,
     "metadata": {},
     "output_type": "execute_result"
    }
   ],
   "source": [
    "drivetimes_duplicates2.head(3)"
   ]
  },
  {
   "cell_type": "markdown",
   "metadata": {},
   "source": [
    "# Filiale in drivetimes, aber nicht in stores_sm. Betreffen sind LAT, RLAT, usw"
   ]
  },
  {
   "cell_type": "code",
   "execution_count": 17,
   "metadata": {
    "collapsed": true
   },
   "outputs": [],
   "source": [
    "# get all relevant hektars, i.e. those from which a Migros store is reachable\n",
    "relevant_hektars = set(drivetimes_migros_pd['hektar_id'])"
   ]
  },
  {
   "cell_type": "code",
   "execution_count": 19,
   "metadata": {
    "collapsed": false
   },
   "outputs": [],
   "source": [
    "drivetimes_rel_hektars_pd = drivetimes_pd[drivetimes_pd['hektar_id'].isin(relevant_hektars)]"
   ]
  },
  {
   "cell_type": "code",
   "execution_count": 84,
   "metadata": {
    "collapsed": false
   },
   "outputs": [
    {
     "data": {
      "text/plain": [
       "110246169"
      ]
     },
     "execution_count": 84,
     "metadata": {},
     "output_type": "execute_result"
    }
   ],
   "source": [
    "drivetimes_rel_hektars_stores_pd = drivetimes_rel_hektars_pd.join(\n",
    "        stores_pd[['FORMAT', 'VERKAUFSFLAECHE', 'VERKAUFSFLAECHE_TOTAL', 'RELEVANZ']], how='left')\n",
    "len(drivetimes_rel_hektars_pd)"
   ]
  },
  {
   "cell_type": "code",
   "execution_count": 47,
   "metadata": {
    "collapsed": false
   },
   "outputs": [],
   "source": [
    "b=drivetimes_rel_hektars_stores_pd[pd.isnull(drivetimes_rel_hektars_stores_pd['VERKAUFSFLAECHE_TOTAL']) &\n",
    "                                            pd.isnull(drivetimes_rel_hektars_stores_pd['RELEVANZ'])&\n",
    "                                            pd.isnull(drivetimes_rel_hektars_stores_pd['FORMAT'])].index.unique()"
   ]
  },
  {
   "cell_type": "code",
   "execution_count": 48,
   "metadata": {
    "collapsed": false
   },
   "outputs": [
    {
     "data": {
      "text/plain": [
       "array(['SM_MIG_49634_10888', 'SM_MIG_49929_11561', 'SM_MIG_50409_11684',\n",
       "       'SM_MIG_52163_14753', 'SM_MIG_53455_15390', 'SM_MIG_59382_24561',\n",
       "       'SM_MIG_60054_19967', 'SM_MIG_60154_20159', 'SM_MIG_60395_20720',\n",
       "       'SM_MIG_61188_25978', 'SM_MIG_61241_26553', 'SM_MIG_61415_21212',\n",
       "       'SM_MIG_62157_26119', 'SM_MIG_62646_22987', 'SM_MIG_63564_24405',\n",
       "       'SM_MIG_63698_23985', 'SM_MIG_65022_22482', 'SM_MIG_66122_21627',\n",
       "       'SM_MIG_66884_24500', 'SM_MIG_69125_26380', 'SM_MIG_69338_24842',\n",
       "       'SM_MIG_69968_26167', 'SM_MIG_69969_26160', 'SM_MIG_70294_11367',\n",
       "       'SM_MIG_70708_23453', 'SM_MIG_71544_10197', 'SM_MIG_71749_11257',\n",
       "       'SM_MIG_72126_25738', 'SM_MIG_73994_26798', 'SM_MIG_74138_25325',\n",
       "       'SM_MIG_75426_22570', 'SM_MIG_75801_19047'], dtype=object)"
      ]
     },
     "execution_count": 48,
     "metadata": {},
     "output_type": "execute_result"
    }
   ],
   "source": [
    "b"
   ]
  },
  {
   "cell_type": "code",
   "execution_count": 55,
   "metadata": {
    "collapsed": false
   },
   "outputs": [
    {
     "data": {
      "text/html": [
       "<div>\n",
       "<table border=\"1\" class=\"dataframe\">\n",
       "  <thead>\n",
       "    <tr style=\"text-align: right;\">\n",
       "      <th></th>\n",
       "      <th>fahrzeit</th>\n",
       "      <th>hektar_id</th>\n",
       "      <th>FORMAT</th>\n",
       "      <th>VERKAUFSFLAECHE</th>\n",
       "      <th>VERKAUFSFLAECHE_TOTAL</th>\n",
       "      <th>RELEVANZ</th>\n",
       "    </tr>\n",
       "  </thead>\n",
       "  <tbody>\n",
       "    <tr>\n",
       "      <th>SM_ALD_49736_11976</th>\n",
       "      <td>7</td>\n",
       "      <td>49971200</td>\n",
       "      <td>Aldi Supermarkt</td>\n",
       "      <td>115.0</td>\n",
       "      <td>1000.0</td>\n",
       "      <td>0.8</td>\n",
       "    </tr>\n",
       "    <tr>\n",
       "      <th>SM_ALD_49736_11976</th>\n",
       "      <td>7</td>\n",
       "      <td>49971201</td>\n",
       "      <td>Aldi Supermarkt</td>\n",
       "      <td>115.0</td>\n",
       "      <td>1000.0</td>\n",
       "      <td>0.8</td>\n",
       "    </tr>\n",
       "  </tbody>\n",
       "</table>\n",
       "</div>"
      ],
      "text/plain": [
       "                    fahrzeit  hektar_id           FORMAT  VERKAUFSFLAECHE  \\\n",
       "SM_ALD_49736_11976         7   49971200  Aldi Supermarkt            115.0   \n",
       "SM_ALD_49736_11976         7   49971201  Aldi Supermarkt            115.0   \n",
       "\n",
       "                    VERKAUFSFLAECHE_TOTAL  RELEVANZ  \n",
       "SM_ALD_49736_11976                 1000.0       0.8  \n",
       "SM_ALD_49736_11976                 1000.0       0.8  "
      ]
     },
     "execution_count": 55,
     "metadata": {},
     "output_type": "execute_result"
    }
   ],
   "source": [
    "drivetimes_rel_hektars_stores_pd[~pd.isnull(drivetimes_rel_hektars_stores_pd['VERKAUFSFLAECHE_TOTAL'])].head(2)"
   ]
  },
  {
   "cell_type": "code",
   "execution_count": 91,
   "metadata": {
    "collapsed": false
   },
   "outputs": [],
   "source": [
    "np.savetxt('/userdata/pmavrodi/Projekte/Stao/output/filiale_nur_drivetimes.txt', b,  fmt='%s')"
   ]
  },
  {
   "cell_type": "markdown",
   "metadata": {},
   "source": [
    "# Hektaren von drivetimes_sm ohne HH. Betrifft ist (lokal) Umsatzpotenztal"
   ]
  },
  {
   "cell_type": "code",
   "execution_count": 58,
   "metadata": {
    "collapsed": false
   },
   "outputs": [],
   "source": [
    "enriched_pd = drivetimes_rel_hektars_stores_pd[~pd.isnull(drivetimes_rel_hektars_stores_pd['VERKAUFSFLAECHE_TOTAL'])].join(haushalt_pd['H14PTOT'], on='hektar_id')"
   ]
  },
  {
   "cell_type": "code",
   "execution_count": 60,
   "metadata": {
    "collapsed": false
   },
   "outputs": [
    {
     "data": {
      "text/html": [
       "<div>\n",
       "<table border=\"1\" class=\"dataframe\">\n",
       "  <thead>\n",
       "    <tr style=\"text-align: right;\">\n",
       "      <th></th>\n",
       "      <th>fahrzeit</th>\n",
       "      <th>hektar_id</th>\n",
       "      <th>FORMAT</th>\n",
       "      <th>VERKAUFSFLAECHE</th>\n",
       "      <th>VERKAUFSFLAECHE_TOTAL</th>\n",
       "      <th>RELEVANZ</th>\n",
       "      <th>H14PTOT</th>\n",
       "    </tr>\n",
       "  </thead>\n",
       "  <tbody>\n",
       "    <tr>\n",
       "      <th>SM_ALD_49736_11976</th>\n",
       "      <td>7</td>\n",
       "      <td>49971200</td>\n",
       "      <td>Aldi Supermarkt</td>\n",
       "      <td>115.0</td>\n",
       "      <td>1000.0</td>\n",
       "      <td>0.8</td>\n",
       "      <td>NaN</td>\n",
       "    </tr>\n",
       "    <tr>\n",
       "      <th>SM_ALD_49736_11976</th>\n",
       "      <td>7</td>\n",
       "      <td>49971201</td>\n",
       "      <td>Aldi Supermarkt</td>\n",
       "      <td>115.0</td>\n",
       "      <td>1000.0</td>\n",
       "      <td>0.8</td>\n",
       "      <td>NaN</td>\n",
       "    </tr>\n",
       "    <tr>\n",
       "      <th>SM_ALD_49736_11976</th>\n",
       "      <td>7</td>\n",
       "      <td>49971204</td>\n",
       "      <td>Aldi Supermarkt</td>\n",
       "      <td>115.0</td>\n",
       "      <td>1000.0</td>\n",
       "      <td>0.8</td>\n",
       "      <td>NaN</td>\n",
       "    </tr>\n",
       "    <tr>\n",
       "      <th>SM_ALD_49736_11976</th>\n",
       "      <td>28</td>\n",
       "      <td>50921477</td>\n",
       "      <td>Aldi Supermarkt</td>\n",
       "      <td>115.0</td>\n",
       "      <td>1000.0</td>\n",
       "      <td>0.8</td>\n",
       "      <td>1.0</td>\n",
       "    </tr>\n",
       "    <tr>\n",
       "      <th>SM_ALD_49736_11976</th>\n",
       "      <td>8</td>\n",
       "      <td>49971206</td>\n",
       "      <td>Aldi Supermarkt</td>\n",
       "      <td>115.0</td>\n",
       "      <td>1000.0</td>\n",
       "      <td>0.8</td>\n",
       "      <td>2.0</td>\n",
       "    </tr>\n",
       "  </tbody>\n",
       "</table>\n",
       "</div>"
      ],
      "text/plain": [
       "                    fahrzeit  hektar_id           FORMAT  VERKAUFSFLAECHE  \\\n",
       "SM_ALD_49736_11976         7   49971200  Aldi Supermarkt            115.0   \n",
       "SM_ALD_49736_11976         7   49971201  Aldi Supermarkt            115.0   \n",
       "SM_ALD_49736_11976         7   49971204  Aldi Supermarkt            115.0   \n",
       "SM_ALD_49736_11976        28   50921477  Aldi Supermarkt            115.0   \n",
       "SM_ALD_49736_11976         8   49971206  Aldi Supermarkt            115.0   \n",
       "\n",
       "                    VERKAUFSFLAECHE_TOTAL  RELEVANZ  H14PTOT  \n",
       "SM_ALD_49736_11976                 1000.0       0.8      NaN  \n",
       "SM_ALD_49736_11976                 1000.0       0.8      NaN  \n",
       "SM_ALD_49736_11976                 1000.0       0.8      NaN  \n",
       "SM_ALD_49736_11976                 1000.0       0.8      1.0  \n",
       "SM_ALD_49736_11976                 1000.0       0.8      2.0  "
      ]
     },
     "execution_count": 60,
     "metadata": {},
     "output_type": "execute_result"
    }
   ],
   "source": [
    "enriched_pd.head(5)"
   ]
  },
  {
   "cell_type": "code",
   "execution_count": 64,
   "metadata": {
    "collapsed": false
   },
   "outputs": [],
   "source": [
    "hektars_ohne_HH_info = enriched_pd[pd.isnull(enriched_pd['H14PTOT'])]['hektar_id'].unique()"
   ]
  },
  {
   "cell_type": "code",
   "execution_count": 97,
   "metadata": {
    "collapsed": false
   },
   "outputs": [
    {
     "data": {
      "text/plain": [
       "54459"
      ]
     },
     "execution_count": 97,
     "metadata": {},
     "output_type": "execute_result"
    }
   ],
   "source": [
    "len(hektars_ohne_HH_info)"
   ]
  },
  {
   "cell_type": "code",
   "execution_count": 94,
   "metadata": {
    "collapsed": false
   },
   "outputs": [],
   "source": [
    "np.savetxt('/userdata/pmavrodi/Projekte/Stao/output/hektaren_ohne_HH_info.txt', hektars_ohne_HH_info, fmt='%s')"
   ]
  },
  {
   "cell_type": "code",
   "execution_count": null,
   "metadata": {
    "collapsed": true
   },
   "outputs": [],
   "source": []
  }
 ],
 "metadata": {
  "anaconda-cloud": {},
  "kernelspec": {
   "display_name": "Python [Root]",
   "language": "python",
   "name": "Python [Root]"
  },
  "language_info": {
   "codemirror_mode": {
    "name": "ipython",
    "version": 3
   },
   "file_extension": ".py",
   "mimetype": "text/x-python",
   "name": "python",
   "nbconvert_exporter": "python",
   "pygments_lexer": "ipython3",
   "version": "3.5.2"
  }
 },
 "nbformat": 4,
 "nbformat_minor": 0
}
